{
 "cells": [
  {
   "cell_type": "code",
   "execution_count": 1,
   "id": "29b7f55f-9a19-4a7a-aa56-06c1bd2d5b56",
   "metadata": {},
   "outputs": [],
   "source": [
    "import pandas as pd\n",
    "from sklearn.model_selection import train_test_split\n",
    "from sklearn.feature_extraction.text import TfidfVectorizer\n",
    "from sklearn.linear_model import LogisticRegression\n",
    "from sklearn.metrics import accuracy_score, classification_report"
   ]
  },
  {
   "cell_type": "code",
   "execution_count": 15,
   "id": "63394b88-d85c-4d71-bf03-07ab806be0c2",
   "metadata": {},
   "outputs": [],
   "source": [
    "fake = pd.read_csv(\"C:/Users/Ashritha Gopu/Downloads/Fake.csv\",low_memory=False)\n",
    "real = pd.read_csv(\"C:/Users/Ashritha Gopu/Downloads/True.csv\")"
   ]
  },
  {
   "cell_type": "code",
   "execution_count": 17,
   "id": "83d57245-c678-450a-9f20-ab79456cfc1d",
   "metadata": {},
   "outputs": [],
   "source": [
    "fake['label'] = 0\n",
    "real['label'] = 1"
   ]
  },
  {
   "cell_type": "code",
   "execution_count": 19,
   "id": "a7999a4d-d88d-467a-a2c4-418ffd88901c",
   "metadata": {},
   "outputs": [],
   "source": [
    "data = pd.concat([fake, real], ignore_index=True)\n",
    "data = data[['text', 'label']]"
   ]
  },
  {
   "cell_type": "code",
   "execution_count": 21,
   "id": "ec518f08-a6b5-475d-a4ec-4a4f34267f63",
   "metadata": {},
   "outputs": [],
   "source": [
    "data = data.sample(frac=1).reset_index(drop=True)"
   ]
  },
  {
   "cell_type": "code",
   "execution_count": 23,
   "id": "17522e09-faa6-4603-b914-80af77af01b4",
   "metadata": {},
   "outputs": [],
   "source": [
    "X = data['text']\n",
    "y = data['label']\n",
    "X_train, X_test, y_train, y_test = train_test_split(X, y, test_size=0.2, random_state=42)"
   ]
  },
  {
   "cell_type": "code",
   "execution_count": 33,
   "id": "7a03f4c7-1d8e-49ae-aa25-7815bb994013",
   "metadata": {},
   "outputs": [
    {
     "name": "stdout",
     "output_type": "stream",
     "text": [
      "Accuracy: 0.9851959038290294\n",
      "\n",
      "Classification Report:\n",
      "               precision    recall  f1-score   support\n",
      "\n",
      "           0       0.99      0.98      0.99      4672\n",
      "           1       0.98      0.99      0.98      4312\n",
      "\n",
      "    accuracy                           0.99      8984\n",
      "   macro avg       0.99      0.99      0.99      8984\n",
      "weighted avg       0.99      0.99      0.99      8984\n",
      "\n"
     ]
    }
   ],
   "source": [
    "vectorizer = TfidfVectorizer(stop_words='english', max_df=0.7)\n",
    "X_train_vec = vectorizer.fit_transform(X_train)\n",
    "X_test_vec = vectorizer.transform(X_test)\n",
    "model = LogisticRegression()\n",
    "model.fit(X_train_vec, y_train)\n",
    "y_pred = model.predict(X_test_vec)\n",
    "print(\"Accuracy:\", accuracy_score(y_test, y_pred))\n",
    "print(\"\\nClassification Report:\\n\", classification_report(y_test, y_pred))\n",
    "def check_news(text):\n",
    "    vector = vectorizer.transform([text])\n",
    "    prediction = model.predict(vector)[0]\n",
    "    return \"REAL\" if prediction == 1 else \"FAKE\"\n"
   ]
  },
  {
   "cell_type": "code",
   "execution_count": 27,
   "id": "ad656bde-41a4-4bca-ab3d-bf070b3f1855",
   "metadata": {},
   "outputs": [
    {
     "name": "stdout",
     "output_type": "stream",
     "text": [
      "\n",
      "Sample Prediction: REAL\n"
     ]
    }
   ],
   "source": [
    "sample=\"The following statementsÂ were posted to the verified Twitter accounts of U.S. President Donald Trump, @realDonaldTrump and @POTUS.  The opinions expressed are his own.Â Reuters has not edited the statements or confirmed their accuracy.  @realDonaldTrump : - Together, we are MAKING AMERICA GREAT AGAIN! bit.ly/2lnpKaq [1814 EST] - In the East, it could be the COLDEST New Yearâ€™s Eve on record. Perhaps we could use a little bit of that good old Global Warming that our Country, but not other countries, was going to pay TRILLIONS OF DOLLARS to protect against. Bundle up! [1901 EST] -- Source link: (bit.ly/2jBh4LU) (bit.ly/2jpEXYR)\" \n",
    "print(\"\\nSample Prediction:\", check_news(sample))"
   ]
  },
  {
   "cell_type": "code",
   "execution_count": 29,
   "id": "c23ad338-99bc-4b09-99fe-56c839ba9320",
   "metadata": {},
   "outputs": [],
   "source": [
    "sample=\"In the wake of yet another court decision that derailed Donald Trump s plan to bar Muslims from entering the United States, the New York Times published a report on Saturday morning detailing the president s frustration at not getting his way   and how far back that frustration goes.According to the article, back in June, Trump stomped into the Oval Office, furious about the state of the travel ban, which he thought would be implemented and fully in place by then. Instead, he fumed, visas had already been issued to immigrants at such a rate that his  friends were calling to say he looked like a fool  after making his broad pronouncements.It was then that Trump began reading from a document that a top advisor, noted white supremacist Stephen Miller, had handed him just before the meeting with his Cabinet. The page listed how many visas had been issued this year, and included 2,500 from Afghanistan (a country not on the travel ban), 15,000 from Haiti (also not included), and 40,000 from Nigeria (sensing a pattern yet?), and Trump expressed his dismay at each.According to witnesses in the room who spoke to the Times on condition of anonymity, and who were interviewed along with three dozen others for the article, Trump called out each country for its faults as he read: Afghanistan was a  terrorist haven,  the people of Nigeria would  never go back to their huts once they saw the glory of America, and immigrants from Haiti  all have AIDS. Despite the extensive research done by the newspaper, the White House of course denies that any such language was used.But given Trump s racist history and his advisor Stephen Miller s blatant white nationalism, it would be no surprise if a Freedom of Information Act request turned up that the document in question had the statements printed inline as commentary for the president to punctuate his anger with. It was Miller, after all, who was responsible for the  American Carnage  speech that Trump delivered at his inauguration.This racist is a menace to America, and he doesn t represent anything that this country stands for. Let s hope that more indictments from Robert Mueller are on their way as we speak.Featured image via Chris Kleponis/Pool/Getty Images\"\n"
   ]
  },
  {
   "cell_type": "code",
   "execution_count": 31,
   "id": "b2bcae6e-a738-436a-9326-b0b7ab0d33ad",
   "metadata": {},
   "outputs": [
    {
     "name": "stdout",
     "output_type": "stream",
     "text": [
      "sample prediction: FAKE\n"
     ]
    }
   ],
   "source": [
    "print(\"sample prediction:\",check_news(sample))"
   ]
  },
  {
   "cell_type": "code",
   "execution_count": 35,
   "id": "0cf71981-5654-4841-aada-638fce810e2d",
   "metadata": {},
   "outputs": [
    {
     "data": {
      "text/plain": [
       "['tfidf_vectorizer.pkl']"
      ]
     },
     "execution_count": 35,
     "metadata": {},
     "output_type": "execute_result"
    }
   ],
   "source": [
    "import joblib\n",
    "\n",
    "# Save model and vectorizer\n",
    "joblib.dump(model, 'fake_news_model.pkl')\n",
    "joblib.dump(vectorizer, 'tfidf_vectorizer.pkl')\n"
   ]
  },
  {
   "cell_type": "code",
   "execution_count": 63,
   "id": "7a865da6-0d90-41ce-a171-d6ae48ede616",
   "metadata": {},
   "outputs": [],
   "source": [
    "import tkinter as tk\n",
    "from tkinter import messagebox\n",
    "import joblib\n",
    "model = joblib.load('fake_news_model.pkl')\n",
    "vectorizer = joblib.load('tfidf_vectorizer.pkl')\n",
    "def predict_news():\n",
    "    user_input = text_entry.get(\"1.0\", tk.END).strip()\n",
    "    if not user_input:\n",
    "        messagebox.showwarning(\"Input Required\", \"Please enter news text.\")\n",
    "        return\n",
    "    vector = vectorizer.transform([user_input])\n",
    "    prediction = model.predict(vector)[0]\n",
    "    result = \"REAL News ✅\" if prediction == 1 else \"FAKE News ❌\"\n",
    "    result_label.config(text=result, fg='green' if prediction == 1 else 'red')\n",
    "window = tk.Tk()\n",
    "window.title(\"News Detector\")\n",
    "window.geometry(\"500x400\")\n",
    "window.config(padx=0, pady=0)\n",
    "\n",
    "title = tk.Label(window, text=\"📰 Fake News Detection\", font=(\"Times new roman\", 18, \"bold\"))\n",
    "title.pack(pady=10)\n",
    "\n",
    "text_entry = tk.Text(window, height=10, width=60, font=(\"Arial\", 12),fg=\"red\",bg=\"black\")\n",
    "text_entry.pack(pady=10)\n",
    "\n",
    "check_button = tk.Button(window, text=\"CHECK\", command=predict_news, font=(\"times new roman\", 12, \"bold\") ,fg=\"red\",bg=\"black\")\n",
    "check_button.pack(pady=10)\n",
    "\n",
    "result_label = tk.Label(window, text=\"\", font=(\"Arial\", 16))\n",
    "result_label.pack(pady=10)\n",
    "\n",
    "window.mainloop()\n"
   ]
  },
  {
   "cell_type": "code",
   "execution_count": null,
   "id": "c4625024-e995-4fa2-8f22-f04ccdbe6d66",
   "metadata": {},
   "outputs": [],
   "source": []
  },
  {
   "cell_type": "code",
   "execution_count": null,
   "id": "0a5a16ca-3a0e-40d0-a76b-a99208c8c350",
   "metadata": {},
   "outputs": [],
   "source": []
  }
 ],
 "metadata": {
  "kernelspec": {
   "display_name": "Python 3 (ipykernel)",
   "language": "python",
   "name": "python3"
  },
  "language_info": {
   "codemirror_mode": {
    "name": "ipython",
    "version": 3
   },
   "file_extension": ".py",
   "mimetype": "text/x-python",
   "name": "python",
   "nbconvert_exporter": "python",
   "pygments_lexer": "ipython3",
   "version": "3.12.4"
  }
 },
 "nbformat": 4,
 "nbformat_minor": 5
}
